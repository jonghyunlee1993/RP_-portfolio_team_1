{
 "cells": [
  {
   "cell_type": "code",
   "execution_count": 1,
   "id": "3f817907",
   "metadata": {},
   "outputs": [
    {
     "data": {
      "text/html": [
       "<div>\n",
       "<style scoped>\n",
       "    .dataframe tbody tr th:only-of-type {\n",
       "        vertical-align: middle;\n",
       "    }\n",
       "\n",
       "    .dataframe tbody tr th {\n",
       "        vertical-align: top;\n",
       "    }\n",
       "\n",
       "    .dataframe thead th {\n",
       "        text-align: right;\n",
       "    }\n",
       "</style>\n",
       "<table border=\"1\" class=\"dataframe\">\n",
       "  <thead>\n",
       "    <tr style=\"text-align: right;\">\n",
       "      <th></th>\n",
       "      <th>AAPL</th>\n",
       "      <th>PETS</th>\n",
       "      <th>STMP</th>\n",
       "      <th>VZ</th>\n",
       "      <th>SO</th>\n",
       "      <th>T</th>\n",
       "      <th>FXY</th>\n",
       "      <th>FXB</th>\n",
       "      <th>FXF</th>\n",
       "      <th>VCLT</th>\n",
       "    </tr>\n",
       "    <tr>\n",
       "      <th>Date</th>\n",
       "      <th></th>\n",
       "      <th></th>\n",
       "      <th></th>\n",
       "      <th></th>\n",
       "      <th></th>\n",
       "      <th></th>\n",
       "      <th></th>\n",
       "      <th></th>\n",
       "      <th></th>\n",
       "      <th></th>\n",
       "    </tr>\n",
       "  </thead>\n",
       "  <tbody>\n",
       "    <tr>\n",
       "      <th>2015-01-02</th>\n",
       "      <td>100.454300</td>\n",
       "      <td>11.998557</td>\n",
       "      <td>47.590000</td>\n",
       "      <td>37.040615</td>\n",
       "      <td>38.569351</td>\n",
       "      <td>25.446146</td>\n",
       "      <td>80.720001</td>\n",
       "      <td>150.610001</td>\n",
       "      <td>97.410004</td>\n",
       "      <td>75.279541</td>\n",
       "    </tr>\n",
       "    <tr>\n",
       "      <th>2015-01-05</th>\n",
       "      <td>97.624336</td>\n",
       "      <td>11.874348</td>\n",
       "      <td>46.590000</td>\n",
       "      <td>36.733002</td>\n",
       "      <td>38.405293</td>\n",
       "      <td>25.205732</td>\n",
       "      <td>81.309998</td>\n",
       "      <td>149.820007</td>\n",
       "      <td>96.910004</td>\n",
       "      <td>75.400810</td>\n",
       "    </tr>\n",
       "    <tr>\n",
       "      <th>2015-01-06</th>\n",
       "      <td>97.633545</td>\n",
       "      <td>11.799825</td>\n",
       "      <td>45.830002</td>\n",
       "      <td>37.103733</td>\n",
       "      <td>38.866219</td>\n",
       "      <td>25.243294</td>\n",
       "      <td>82.110001</td>\n",
       "      <td>148.809998</td>\n",
       "      <td>96.660004</td>\n",
       "      <td>76.200851</td>\n",
       "    </tr>\n",
       "    <tr>\n",
       "      <th>2015-01-07</th>\n",
       "      <td>99.002556</td>\n",
       "      <td>12.064802</td>\n",
       "      <td>46.970001</td>\n",
       "      <td>36.864300</td>\n",
       "      <td>39.295902</td>\n",
       "      <td>25.273773</td>\n",
       "      <td>81.660004</td>\n",
       "      <td>148.369995</td>\n",
       "      <td>96.139999</td>\n",
       "      <td>76.346336</td>\n",
       "    </tr>\n",
       "    <tr>\n",
       "      <th>2015-01-08</th>\n",
       "      <td>102.806480</td>\n",
       "      <td>12.039960</td>\n",
       "      <td>47.110001</td>\n",
       "      <td>37.654419</td>\n",
       "      <td>39.327145</td>\n",
       "      <td>25.525217</td>\n",
       "      <td>81.320000</td>\n",
       "      <td>148.130005</td>\n",
       "      <td>95.739998</td>\n",
       "      <td>75.724030</td>\n",
       "    </tr>\n",
       "  </tbody>\n",
       "</table>\n",
       "</div>"
      ],
      "text/plain": [
       "                  AAPL       PETS       STMP         VZ         SO          T  \\\n",
       "Date                                                                            \n",
       "2015-01-02  100.454300  11.998557  47.590000  37.040615  38.569351  25.446146   \n",
       "2015-01-05   97.624336  11.874348  46.590000  36.733002  38.405293  25.205732   \n",
       "2015-01-06   97.633545  11.799825  45.830002  37.103733  38.866219  25.243294   \n",
       "2015-01-07   99.002556  12.064802  46.970001  36.864300  39.295902  25.273773   \n",
       "2015-01-08  102.806480  12.039960  47.110001  37.654419  39.327145  25.525217   \n",
       "\n",
       "                  FXY         FXB        FXF       VCLT  \n",
       "Date                                                     \n",
       "2015-01-02  80.720001  150.610001  97.410004  75.279541  \n",
       "2015-01-05  81.309998  149.820007  96.910004  75.400810  \n",
       "2015-01-06  82.110001  148.809998  96.660004  76.200851  \n",
       "2015-01-07  81.660004  148.369995  96.139999  76.346336  \n",
       "2015-01-08  81.320000  148.130005  95.739998  75.724030  "
      ]
     },
     "execution_count": 1,
     "metadata": {},
     "output_type": "execute_result"
    }
   ],
   "source": [
    "from datetime import datetime, timedelta\n",
    "import pandas as pd\n",
    "import matplotlib.pyplot as plt\n",
    "\n",
    "df = pd.read_csv(\"../data/sample.csv\")\n",
    "df.Date = pd.to_datetime(df.Date)\n",
    "df = df.set_index(\"Date\")\n",
    "df.head()"
   ]
  },
  {
   "cell_type": "code",
   "execution_count": 2,
   "id": "44f5dd1d",
   "metadata": {},
   "outputs": [
    {
     "data": {
      "text/plain": [
       "AAPL     98.446655\n",
       "PETS     14.478662\n",
       "STMP    107.320000\n",
       "VZ       37.944790\n",
       "SO       38.965347\n",
       "T        27.287683\n",
       "FXY      81.080002\n",
       "FXB     144.080002\n",
       "FXF      96.250000\n",
       "VCLT     70.992462\n",
       "Name: 2016-01-04 00:00:00, dtype: float64"
      ]
     },
     "execution_count": 2,
     "metadata": {},
     "output_type": "execute_result"
    }
   ],
   "source": [
    "df.loc[\"2016-01-04\"]"
   ]
  },
  {
   "cell_type": "code",
   "execution_count": 3,
   "id": "495a9058",
   "metadata": {},
   "outputs": [
    {
     "data": {
      "text/plain": [
       "AAPL     90.606438\n",
       "PETS     14.772558\n",
       "STMP    100.769997\n",
       "VZ       37.540615\n",
       "SO       38.625656\n",
       "T        27.019161\n",
       "FXY      82.470001\n",
       "FXB     142.220001\n",
       "FXF      97.040001\n",
       "VCLT     71.668411\n",
       "Name: 2016-01-08 00:00:00, dtype: float64"
      ]
     },
     "execution_count": 3,
     "metadata": {},
     "output_type": "execute_result"
    }
   ],
   "source": [
    "df.loc[\"2016-01-08\"]"
   ]
  },
  {
   "cell_type": "code",
   "execution_count": 103,
   "id": "474ce0a9",
   "metadata": {},
   "outputs": [],
   "source": [
    "import numpy as np\n",
    "\n",
    "starting_budget = 100000\n",
    "weights = np.array([0.1] * 10)\n",
    "stock_prices = df.loc[\"2016-01-04\"]\n",
    "transaction_fee = 0.2"
   ]
  },
  {
   "cell_type": "code",
   "execution_count": 104,
   "id": "751fc42c",
   "metadata": {},
   "outputs": [],
   "source": [
    "def generate_portfolio(starting_budget, weights, stock_prices, transaction_fee):\n",
    "    need_to_buy = starting_budget * weights // stock_prices\n",
    "    transaction_price = np.sum(need_to_buy * stock_prices)\n",
    "    transaction_commission = transaction_price * transaction_fee\n",
    "\n",
    "    while transaction_price + transaction_commission > starting_budget:\n",
    "        need_to_buy -= 1\n",
    "        transaction_price = np.sum(need_to_buy * stock_prices)\n",
    "        transaction_commission = transaction_price * transaction_fee\n",
    "\n",
    "    holding_amount = need_to_buy\n",
    "    remaining_budget = starting_budget - (transaction_price + transaction_commission)\n",
    "    portfolio_value = np.sum(holding_amount * stock_prices)\n",
    "    \n",
    "    return remaining_budget, holding_amount, portfolio_value"
   ]
  },
  {
   "cell_type": "code",
   "execution_count": 105,
   "id": "da84dcb2",
   "metadata": {
    "scrolled": true
   },
   "outputs": [
    {
     "name": "stdout",
     "output_type": "stream",
     "text": [
      "237.2125136200193\n",
      "AAPL     78.0\n",
      "PETS    667.0\n",
      "STMP     70.0\n",
      "VZ      240.0\n",
      "SO      233.0\n",
      "T       343.0\n",
      "FXY     100.0\n",
      "FXB      46.0\n",
      "FXF      80.0\n",
      "VCLT    117.0\n",
      "Name: 2016-01-04 00:00:00, dtype: float64\n",
      "83135.65623864999\n"
     ]
    }
   ],
   "source": [
    "remaining_budget, holding_amount, portfolio_value = generate_portfolio(starting_budget, weights, stock_prices, transaction_fee)\n",
    "print(remaining_budget)\n",
    "print(holding_amount)\n",
    "print(portfolio_value)"
   ]
  },
  {
   "cell_type": "code",
   "execution_count": 106,
   "id": "3c0e27b2",
   "metadata": {},
   "outputs": [],
   "source": [
    "new_weights = np.array([0.1] * 10)\n",
    "new_stock_prices = df.loc[\"2016-01-04\"]\n",
    "transaction_fee = 0.2"
   ]
  },
  {
   "cell_type": "code",
   "execution_count": 109,
   "id": "74fa3277",
   "metadata": {},
   "outputs": [],
   "source": [
    "def rebalancing_portfolio(remaining_budget, holding_amount, rebalanced_weights, stock_prices, transaction_fee):\n",
    "    total_capital = remaining_budget + np.sum(holding_amount * stock_prices)\n",
    "    holding_amount_after_rebalancing = total_capital * rebalanced_weights // stock_prices\n",
    "    need_to_rebalance = holding_amount_after_rebalancing - holding_amount\n",
    "    \n",
    "    transaction_price = np.sum(np.abs(need_to_rebalance) * stock_prices)\n",
    "    transaction_commission = transaction_price * transaction_fee\n",
    "    \n",
    "    while total_capital < (transaction_price + transaction_commission):\n",
    "        need_to_rebalance -= 1\n",
    "        transaction_price = np.sum(need_to_rebalance * stock_prices)\n",
    "        transaction_commission = transaction_price * transaction_fee\n",
    "    \n",
    "    holding_amount += need_to_rebalance\n",
    "    remaining_budget = total_capital - np.sum(holding_amount * stock_prices) - (transaction_price + transaction_commission)\n",
    "    portfolio_value = np.sum(holding_amount * stock_prices)\n",
    "    \n",
    "    return remaining_budget, holding_amount, portfolio_value"
   ]
  },
  {
   "cell_type": "code",
   "execution_count": 110,
   "id": "33ca881f",
   "metadata": {},
   "outputs": [
    {
     "data": {
      "text/plain": [
       "(218.3745539480404,\n",
       " AAPL     84.0\n",
       " PETS    573.0\n",
       " STMP     77.0\n",
       " VZ      218.0\n",
       " SO      213.0\n",
       " T       304.0\n",
       " FXY     102.0\n",
       " FXB      57.0\n",
       " FXF      86.0\n",
       " VCLT    117.0\n",
       " Name: 2016-01-04 00:00:00, dtype: float64,\n",
       " 82762.80993807998)"
      ]
     },
     "execution_count": 110,
     "metadata": {},
     "output_type": "execute_result"
    }
   ],
   "source": [
    "remaining_budget, holding_amount, portfolio_value = rebalancing_portfolio(remaining_budget, holding_amount, new_weights, new_stock_prices, transaction_fee)\n",
    "remaining_budget, holding_amount, portfolio_value"
   ]
  },
  {
   "cell_type": "code",
   "execution_count": null,
   "id": "45fdc94a",
   "metadata": {},
   "outputs": [],
   "source": []
  }
 ],
 "metadata": {
  "kernelspec": {
   "display_name": "Python 3 (ipykernel)",
   "language": "python",
   "name": "python3"
  },
  "language_info": {
   "codemirror_mode": {
    "name": "ipython",
    "version": 3
   },
   "file_extension": ".py",
   "mimetype": "text/x-python",
   "name": "python",
   "nbconvert_exporter": "python",
   "pygments_lexer": "ipython3",
   "version": "3.9.6"
  }
 },
 "nbformat": 4,
 "nbformat_minor": 5
}
