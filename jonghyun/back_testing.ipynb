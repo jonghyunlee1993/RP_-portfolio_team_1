{
 "cells": [
  {
   "cell_type": "code",
   "execution_count": 1,
   "id": "dbd50ce5",
   "metadata": {},
   "outputs": [
    {
     "data": {
      "text/html": [
       "<div>\n",
       "<style scoped>\n",
       "    .dataframe tbody tr th:only-of-type {\n",
       "        vertical-align: middle;\n",
       "    }\n",
       "\n",
       "    .dataframe tbody tr th {\n",
       "        vertical-align: top;\n",
       "    }\n",
       "\n",
       "    .dataframe thead th {\n",
       "        text-align: right;\n",
       "    }\n",
       "</style>\n",
       "<table border=\"1\" class=\"dataframe\">\n",
       "  <thead>\n",
       "    <tr style=\"text-align: right;\">\n",
       "      <th></th>\n",
       "      <th>AAPL</th>\n",
       "      <th>PETS</th>\n",
       "      <th>STMP</th>\n",
       "      <th>VZ</th>\n",
       "      <th>SO</th>\n",
       "      <th>T</th>\n",
       "      <th>FXY</th>\n",
       "      <th>FXB</th>\n",
       "      <th>FXF</th>\n",
       "      <th>VCLT</th>\n",
       "    </tr>\n",
       "    <tr>\n",
       "      <th>Date</th>\n",
       "      <th></th>\n",
       "      <th></th>\n",
       "      <th></th>\n",
       "      <th></th>\n",
       "      <th></th>\n",
       "      <th></th>\n",
       "      <th></th>\n",
       "      <th></th>\n",
       "      <th></th>\n",
       "      <th></th>\n",
       "    </tr>\n",
       "  </thead>\n",
       "  <tbody>\n",
       "    <tr>\n",
       "      <th>2015-01-02</th>\n",
       "      <td>100.454300</td>\n",
       "      <td>11.998557</td>\n",
       "      <td>47.590000</td>\n",
       "      <td>37.040615</td>\n",
       "      <td>38.569351</td>\n",
       "      <td>25.446146</td>\n",
       "      <td>80.720001</td>\n",
       "      <td>150.610001</td>\n",
       "      <td>97.410004</td>\n",
       "      <td>75.279541</td>\n",
       "    </tr>\n",
       "    <tr>\n",
       "      <th>2015-01-05</th>\n",
       "      <td>97.624336</td>\n",
       "      <td>11.874348</td>\n",
       "      <td>46.590000</td>\n",
       "      <td>36.733002</td>\n",
       "      <td>38.405293</td>\n",
       "      <td>25.205732</td>\n",
       "      <td>81.309998</td>\n",
       "      <td>149.820007</td>\n",
       "      <td>96.910004</td>\n",
       "      <td>75.400810</td>\n",
       "    </tr>\n",
       "    <tr>\n",
       "      <th>2015-01-06</th>\n",
       "      <td>97.633545</td>\n",
       "      <td>11.799825</td>\n",
       "      <td>45.830002</td>\n",
       "      <td>37.103733</td>\n",
       "      <td>38.866219</td>\n",
       "      <td>25.243294</td>\n",
       "      <td>82.110001</td>\n",
       "      <td>148.809998</td>\n",
       "      <td>96.660004</td>\n",
       "      <td>76.200851</td>\n",
       "    </tr>\n",
       "    <tr>\n",
       "      <th>2015-01-07</th>\n",
       "      <td>99.002556</td>\n",
       "      <td>12.064802</td>\n",
       "      <td>46.970001</td>\n",
       "      <td>36.864300</td>\n",
       "      <td>39.295902</td>\n",
       "      <td>25.273773</td>\n",
       "      <td>81.660004</td>\n",
       "      <td>148.369995</td>\n",
       "      <td>96.139999</td>\n",
       "      <td>76.346336</td>\n",
       "    </tr>\n",
       "    <tr>\n",
       "      <th>2015-01-08</th>\n",
       "      <td>102.806480</td>\n",
       "      <td>12.039960</td>\n",
       "      <td>47.110001</td>\n",
       "      <td>37.654419</td>\n",
       "      <td>39.327145</td>\n",
       "      <td>25.525217</td>\n",
       "      <td>81.320000</td>\n",
       "      <td>148.130005</td>\n",
       "      <td>95.739998</td>\n",
       "      <td>75.724030</td>\n",
       "    </tr>\n",
       "  </tbody>\n",
       "</table>\n",
       "</div>"
      ],
      "text/plain": [
       "                  AAPL       PETS       STMP         VZ         SO          T  \\\n",
       "Date                                                                            \n",
       "2015-01-02  100.454300  11.998557  47.590000  37.040615  38.569351  25.446146   \n",
       "2015-01-05   97.624336  11.874348  46.590000  36.733002  38.405293  25.205732   \n",
       "2015-01-06   97.633545  11.799825  45.830002  37.103733  38.866219  25.243294   \n",
       "2015-01-07   99.002556  12.064802  46.970001  36.864300  39.295902  25.273773   \n",
       "2015-01-08  102.806480  12.039960  47.110001  37.654419  39.327145  25.525217   \n",
       "\n",
       "                  FXY         FXB        FXF       VCLT  \n",
       "Date                                                     \n",
       "2015-01-02  80.720001  150.610001  97.410004  75.279541  \n",
       "2015-01-05  81.309998  149.820007  96.910004  75.400810  \n",
       "2015-01-06  82.110001  148.809998  96.660004  76.200851  \n",
       "2015-01-07  81.660004  148.369995  96.139999  76.346336  \n",
       "2015-01-08  81.320000  148.130005  95.739998  75.724030  "
      ]
     },
     "execution_count": 1,
     "metadata": {},
     "output_type": "execute_result"
    }
   ],
   "source": [
    "from datetime import datetime, timedelta\n",
    "import pandas as pd\n",
    "import matplotlib.pyplot as plt\n",
    "\n",
    "df = pd.read_csv(\"../data/sample.csv\")\n",
    "df.Date = pd.to_datetime(df.Date)\n",
    "df = df.set_index(\"Date\")\n",
    "df.head()"
   ]
  },
  {
   "cell_type": "code",
   "execution_count": 103,
   "id": "4b9a4788",
   "metadata": {},
   "outputs": [],
   "source": [
    "import numpy as np\n",
    "\n",
    "starting_budget = 100000\n",
    "weights = np.array([0.1] * 10)\n",
    "stock_prices = df.loc[\"2016-01-04\"]\n",
    "transaction_fee = 0.2"
   ]
  },
  {
   "cell_type": "code",
   "execution_count": 104,
   "id": "98628980",
   "metadata": {},
   "outputs": [],
   "source": [
    "def generate_portfolio(starting_budget, weights, stock_prices, transaction_fee):\n",
    "    need_to_buy = starting_budget * weights // stock_prices\n",
    "    transaction_price = np.sum(need_to_buy * stock_prices)\n",
    "    transaction_commission = transaction_price * transaction_fee\n",
    "\n",
    "    while transaction_price + transaction_commission > starting_budget:\n",
    "        need_to_buy -= 1\n",
    "        transaction_price = np.sum(need_to_buy * stock_prices)\n",
    "        transaction_commission = transaction_price * transaction_fee\n",
    "\n",
    "    holding_amount = need_to_buy\n",
    "    remaining_budget = starting_budget - (transaction_price + transaction_commission)\n",
    "    portfolio_value = np.sum(holding_amount * stock_prices)\n",
    "    \n",
    "    return remaining_budget, holding_amount, portfolio_value"
   ]
  },
  {
   "cell_type": "code",
   "execution_count": 105,
   "id": "0751c658",
   "metadata": {
    "scrolled": true
   },
   "outputs": [
    {
     "name": "stdout",
     "output_type": "stream",
     "text": [
      "237.2125136200193\n",
      "AAPL     78.0\n",
      "PETS    667.0\n",
      "STMP     70.0\n",
      "VZ      240.0\n",
      "SO      233.0\n",
      "T       343.0\n",
      "FXY     100.0\n",
      "FXB      46.0\n",
      "FXF      80.0\n",
      "VCLT    117.0\n",
      "Name: 2016-01-04 00:00:00, dtype: float64\n",
      "83135.65623864999\n"
     ]
    }
   ],
   "source": [
    "remaining_budget, holding_amount, portfolio_value = generate_portfolio(starting_budget, weights, stock_prices, transaction_fee)\n",
    "print(remaining_budget)\n",
    "print(holding_amount)\n",
    "print(portfolio_value)"
   ]
  },
  {
   "cell_type": "code",
   "execution_count": 106,
   "id": "cc90e78e",
   "metadata": {},
   "outputs": [],
   "source": [
    "new_weights = np.array([0.1] * 10)\n",
    "new_stock_prices = df.loc[\"2016-01-04\"]\n",
    "transaction_fee = 0.2"
   ]
  },
  {
   "cell_type": "code",
   "execution_count": 109,
   "id": "92319018",
   "metadata": {},
   "outputs": [],
   "source": [
    "def rebalancing_portfolio(remaining_budget, holding_amount, rebalanced_weights, stock_prices, transaction_fee):\n",
    "    total_capital = remaining_budget + np.sum(holding_amount * stock_prices)\n",
    "    holding_amount_after_rebalancing = total_capital * rebalanced_weights // stock_prices\n",
    "    need_to_rebalance = holding_amount_after_rebalancing - holding_amount\n",
    "    \n",
    "    transaction_price = np.sum(np.abs(need_to_rebalance) * stock_prices)\n",
    "    transaction_commission = transaction_price * transaction_fee\n",
    "    \n",
    "    while total_capital < (transaction_price + transaction_commission):\n",
    "        need_to_rebalance -= 1\n",
    "        transaction_price = np.sum(need_to_rebalance * stock_prices)\n",
    "        transaction_commission = transaction_price * transaction_fee\n",
    "    \n",
    "    holding_amount += need_to_rebalance\n",
    "    remaining_budget = total_capital - np.sum(holding_amount * stock_prices) - (transaction_price + transaction_commission)\n",
    "    portfolio_value = np.sum(holding_amount * stock_prices)\n",
    "    \n",
    "    return remaining_budget, holding_amount, portfolio_value"
   ]
  },
  {
   "cell_type": "code",
   "execution_count": 110,
   "id": "ce927e49",
   "metadata": {
    "scrolled": true
   },
   "outputs": [
    {
     "data": {
      "text/plain": [
       "(218.3745539480404,\n",
       " AAPL     84.0\n",
       " PETS    573.0\n",
       " STMP     77.0\n",
       " VZ      218.0\n",
       " SO      213.0\n",
       " T       304.0\n",
       " FXY     102.0\n",
       " FXB      57.0\n",
       " FXF      86.0\n",
       " VCLT    117.0\n",
       " Name: 2016-01-04 00:00:00, dtype: float64,\n",
       " 82762.80993807998)"
      ]
     },
     "execution_count": 110,
     "metadata": {},
     "output_type": "execute_result"
    }
   ],
   "source": [
    "remaining_budget, holding_amount, portfolio_value = rebalancing_portfolio(remaining_budget, holding_amount, new_weights, new_stock_prices, transaction_fee)\n",
    "remaining_budget, holding_amount, portfolio_value"
   ]
  },
  {
   "cell_type": "code",
   "execution_count": 191,
   "id": "142218f1",
   "metadata": {},
   "outputs": [],
   "source": [
    "def check_rebalancing_date(df, start_year, end_year, rebalancing_period):\n",
    "    last_date_of_each_month = df.loc[df.groupby(df.index.to_period('M')).apply(lambda x: x.index.max())]\n",
    "\n",
    "    rebalancing_date_index = []\n",
    "    for year in range(int(start_year), int(end_year)):\n",
    "        for month in rebalancing_period:\n",
    "            rebalancing_date_index.append(last_date_of_each_month.loc[str(year) + \"-\" + str(month)].index)\n",
    "\n",
    "            \n",
    "    return rebalancing_date_index"
   ]
  },
  {
   "cell_type": "code",
   "execution_count": 192,
   "id": "9b6cd878",
   "metadata": {
    "scrolled": true
   },
   "outputs": [
    {
     "data": {
      "text/plain": [
       "[DatetimeIndex(['2016-06-30'], dtype='datetime64[ns]', name='Date', freq=None),\n",
       " DatetimeIndex(['2016-12-30'], dtype='datetime64[ns]', name='Date', freq=None),\n",
       " DatetimeIndex(['2017-06-30'], dtype='datetime64[ns]', name='Date', freq=None),\n",
       " DatetimeIndex(['2017-12-29'], dtype='datetime64[ns]', name='Date', freq=None)]"
      ]
     },
     "execution_count": 192,
     "metadata": {},
     "output_type": "execute_result"
    }
   ],
   "source": [
    "rebalancing_period = [\"6\", \"12\"]\n",
    "rebalancing_date_index = check_rebalancing_date(df, start_year, end_year, rebalancing_period)\n",
    "rebalancing_date_index"
   ]
  },
  {
   "cell_type": "code",
   "execution_count": 234,
   "id": "9db71f26",
   "metadata": {},
   "outputs": [
    {
     "data": {
      "text/plain": [
       "(82975.52751017999, 0.0)"
      ]
     },
     "execution_count": 234,
     "metadata": {},
     "output_type": "execute_result"
    }
   ],
   "source": [
    "def calc_valuation(holding_amount, portfolio_value, stock_prices):\n",
    "    updated_portfolio_value = np.sum(holding_amount * stock_prices)\n",
    "    daily_performance = (updated_portfolio_value - portfolio_value) / updated_portfolio_value * 100\n",
    "    \n",
    "    return updated_portfolio_value, daily_performance\n",
    "    \n",
    "updated_portfolio_value, daily_performance = calc_valuation(holding_amount, portfolio_value, stock_prices)\n",
    "updated_portfolio_value, daily_performance\n"
   ]
  },
  {
   "cell_type": "code",
   "execution_count": 235,
   "id": "c97861a4",
   "metadata": {},
   "outputs": [
    {
     "name": "stdout",
     "output_type": "stream",
     "text": [
      "102209.39766892999\n"
     ]
    },
    {
     "data": {
      "text/plain": [
       "[<matplotlib.lines.Line2D at 0x12f2e4070>]"
      ]
     },
     "execution_count": 235,
     "metadata": {},
     "output_type": "execute_result"
    },
    {
     "data": {
      "image/png": "[encoded data removed]",
      "text/plain": [
       "<Figure size 432x288 with 1 Axes>"
      ]
     },
     "metadata": {
      "needs_background": "light"
     },
     "output_type": "display_data"
    }
   ],
   "source": [
    "start_yymm = \"2016-06\"\n",
    "end_yymm = \"2018-06\"\n",
    "\n",
    "rebalancing_period = [\"6\", \"12\"]\n",
    "\n",
    "start_year, start_month = start_yymm.split(\"-\")\n",
    "end_year, end_month = end_yymm.split(\"-\")\n",
    "\n",
    "back_data = df.loc[start_yymm:end_yymm]\n",
    "\n",
    "strating_budget = 100000\n",
    "weights = np.array([0.1] * 10)\n",
    "transaction_fee = 0.2\n",
    "\n",
    "rebalancing_date_index = check_rebalancing_date(df, start_year, end_year, rebalancing_period)\n",
    "\n",
    "rebalancing_count = 0\n",
    "performance_results = {\"Date\": [], \n",
    "                       \"portfolio_value\": [],\n",
    "                       \"daily_performance\": []}\n",
    "\n",
    "for date_number, (today, stock_prices) in enumerate(df.iterrows()):\n",
    "    if date_number == 0:\n",
    "        remaining_budget, holding_amount, portfolio_value = generate_portfolio(starting_budget, weights, stock_prices, transaction_fee)\n",
    "    \n",
    "    if today == df.loc[rebalancing_date_index[rebalancing_count]].index:\n",
    "        rebalanced_weights = np.array([0.1] * 10)\n",
    "        remaining_budget, holding_amount, portfolio_value = rebalancing_portfolio(remaining_budget, holding_amount, rebalanced_weights, stock_prices, transaction_fee)\n",
    "        print(portfolio_value)\n",
    "        rebalancing_count += 1\n",
    "        break\n",
    "        \n",
    "    portfolio_value, daily_performance = calc_valuation(holding_amount, portfolio_value, stock_prices)\n",
    "\n",
    "    performance_results['Date'].append(today)\n",
    "    performance_results['portfolio_value'].append(portfolio_value)\n",
    "    performance_results[\"daily_performance\"].append(daily_performance)\n",
    "\n",
    "    \n",
    "performance_results = pd.DataFrame.from_dict(performance_results)\n",
    "plt.plot(performance_results[\"Date\"], performance_results['daily_performance'])\n",
    "    "
   ]
  },
  {
   "cell_type": "code",
   "execution_count": null,
   "id": "afbc200e",
   "metadata": {},
   "outputs": [],
   "source": []
  }
 ],
 "metadata": {
  "kernelspec": {
   "display_name": "Python 3 (ipykernel)",
   "language": "python",
   "name": "python3"
  },
  "language_info": {
   "codemirror_mode": {
    "name": "ipython",
    "version": 3
   },
   "file_extension": ".py",
   "mimetype": "text/x-python",
   "name": "python",
   "nbconvert_exporter": "python",
   "pygments_lexer": "ipython3",
   "version": "3.9.6"
  }
 },
 "nbformat": 4,
 "nbformat_minor": 5
}
